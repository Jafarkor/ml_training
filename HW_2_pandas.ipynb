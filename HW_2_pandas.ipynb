{
 "cells": [
  {
   "cell_type": "markdown",
   "id": "aed275c573a944ae",
   "metadata": {},
   "source": [
    "## Домашка Pandas часть 1"
   ]
  },
  {
   "cell_type": "markdown",
   "id": "d35573e144f7ed3d",
   "metadata": {},
   "source": [
    "----\n",
    "### Блок 1\n",
    "----"
   ]
  },
  {
   "cell_type": "markdown",
   "id": "a4c5e2f00458ddc0",
   "metadata": {},
   "source": [
    "#### Задача 1.1 \n",
    "*Ваш коллега создал df — объект DataFrame и передал в работу вам:*\n",
    "| I   | II  | III |\n",
    "|-----|-----|-----|\n",
    "| 0   | 1.0 | 5.0 | NaN |\n",
    "| 1   | 2.0 | 6.0 | NaN |\n",
    "| 2   | 3.0 | NaN | 7.0 |\n",
    "| 3   | 4.0 | NaN | 6.0 |\n",
    "1.\tЗамените индексы строк на последовательность чисел от 1 до 4, используя соответствующий метод библиотеки Pandas. \n",
    "\n",
    "2.\tПереименуйте названия колонок в последовательность букв A, B, C используя соответствующий метод библиотеки Pandas. \n",
    "\n",
    "3.\tЗамените пропущенные значения числом 55."
   ]
  },
  {
   "cell_type": "code",
   "execution_count": null,
   "id": "initial_id",
   "metadata": {
    "ExecuteTime": {
     "end_time": "2025-07-07T18:31:04.808097Z",
     "start_time": "2025-07-07T18:31:04.155532Z"
    },
    "collapsed": true
   },
   "outputs": [
    {
     "data": {
      "text/html": [
       "<div>\n",
       "<style scoped>\n",
       "    .dataframe tbody tr th:only-of-type {\n",
       "        vertical-align: middle;\n",
       "    }\n",
       "\n",
       "    .dataframe tbody tr th {\n",
       "        vertical-align: top;\n",
       "    }\n",
       "\n",
       "    .dataframe thead th {\n",
       "        text-align: right;\n",
       "    }\n",
       "</style>\n",
       "<table border=\"1\" class=\"dataframe\">\n",
       "  <thead>\n",
       "    <tr style=\"text-align: right;\">\n",
       "      <th></th>\n",
       "      <th>A</th>\n",
       "      <th>B</th>\n",
       "      <th>C</th>\n",
       "    </tr>\n",
       "  </thead>\n",
       "  <tbody>\n",
       "    <tr>\n",
       "      <th>1</th>\n",
       "      <td>55.0</td>\n",
       "      <td>55.0</td>\n",
       "      <td>55.0</td>\n",
       "    </tr>\n",
       "    <tr>\n",
       "      <th>2</th>\n",
       "      <td>55.0</td>\n",
       "      <td>55.0</td>\n",
       "      <td>55.0</td>\n",
       "    </tr>\n",
       "    <tr>\n",
       "      <th>3</th>\n",
       "      <td>55.0</td>\n",
       "      <td>55.0</td>\n",
       "      <td>55.0</td>\n",
       "    </tr>\n",
       "    <tr>\n",
       "      <th>4</th>\n",
       "      <td>55.0</td>\n",
       "      <td>55.0</td>\n",
       "      <td>55.0</td>\n",
       "    </tr>\n",
       "  </tbody>\n",
       "</table>\n",
       "</div>"
      ],
      "text/plain": [
       "      A     B     C\n",
       "1  55.0  55.0  55.0\n",
       "2  55.0  55.0  55.0\n",
       "3  55.0  55.0  55.0\n",
       "4  55.0  55.0  55.0"
      ]
     },
     "execution_count": 7,
     "metadata": {},
     "output_type": "execute_result"
    }
   ],
   "source": [
    "import numpy as np\n",
    "import pandas as pd\n",
    "\n",
    "df = pd.DataFrame(np.nan, index=[0, 1, 2, 3], columns=['I', 'II', 'III'])\n",
    "# далее ваш код\n",
    "\n",
    "df = df.set_axis([1, 2, 3, 4], axis='index')\n",
    "df = df.set_axis(['A', 'B', 'C'], axis='columns')\n",
    "df = df.fillna(55)\n",
    "df"
   ]
  },
  {
   "cell_type": "markdown",
   "id": "ee06f456825a698f",
   "metadata": {},
   "source": [
    "#### Задачка 1.2\n",
    "#### Анализ продаж и ассортимента магазина фруктов\n",
    "Используя имеющийся фрагмент кода (см. окно ввода ответа), выполните последовательно следующие задания:\n",
    "\n",
    "1.\tСделайте срез по условию для df. Выберите все строки со значением Q больше 3, для которых значение переменной Shop — это Shop A. Сохраните результат в переменную subset. Получите значение колонки total для второй строки получившегося среза subset и сохраните его в переменную total2.\n",
    "\n",
    "2.\tПосчитайте общую выручку в разбивке по всем фруктам (колонка total), результат (объект Series) сохраните в переменную fruit_total.\n",
    "\n",
    "3.\tПосчитайте общее количество (колонка Q) всех фруктов в разбивке по названию, результат (объект Series) сохраните в переменную fruit_quantity.\n",
    "\n",
    "4.\tПосчитайте среднюю цену (колонка P) лимонов, результат (объект Series) сохраните в переменную lemon_average_price."
   ]
  },
  {
   "cell_type": "code",
   "execution_count": 20,
   "id": "c95d161e269cf338",
   "metadata": {},
   "outputs": [],
   "source": [
    "import pandas as pd\n",
    "import numpy as np\n",
    "\n",
    "fruit = np.array([\"lemons\", \"lemons\", \"lemons\", \"lemons\",\n",
    "                 \"apples\", \"apples\", \"apples\", \"apples\",\n",
    "                 \"apples\", \"apples\", \"apples\"],\n",
    "                dtype=object)\n",
    "\n",
    "shop = np.array([\"Shop A\", \"Shop A\", \"Shop A\", \"Shop B\",\n",
    "                 \"Shop A\", \"Shop A\", \"Shop A\", \"Shop B\",\n",
    "                 \"Shop B\", \"Shop B\", \"Shop A\"],\n",
    "                dtype=object)\n",
    "\n",
    "pl = np.array([\"online\", \"online\", \"offline\",\n",
    "                 \"online\", \"online\", \"offline\",\n",
    "                 \"offline\", \"online\", \"offline\",\n",
    "                 \"offline\", \"offline\"],\n",
    "                dtype=object)\n",
    "\n",
    "\n",
    "\n",
    "df = pd.DataFrame({'fruit': fruit, 'shop': shop, 'pl': pl,\n",
    "                   \"Q\": [1, 2, 2, 3, 3, 4, 5, 6, 7, 4, 4],\n",
    "                   \"P\": [5, 4, 5, 5, 6, 6, 8, 9, 9, 3,3]})\n",
    "df['total'] = df['Q']*df['P']\n",
    "# далее запишите ваш код\n",
    "\n",
    "subset = df[(df['Q'] > 3) & (df['shop'] == 'Shop A')].reset_index()\n",
    "total2 = subset['total'][1]\n",
    "fruit_total = df.groupby('fruit')['total'].sum()\n",
    "fruit_quantity = df.groupby('fruit')['Q'].sum()\n",
    "lemon_average_price = pd.Series(df.groupby('fruit')['P'].mean()['lemons'])"
   ]
  },
  {
   "cell_type": "markdown",
   "id": "8d260ba08835b683",
   "metadata": {},
   "source": [
    "#### Задача 1.3\n",
    "#### Анализ продаж и ассортимента магазина фруктов (продолжение)\n",
    "Используя имеющийся фрагмент кода (см. окно ввода ответа), выполните следующее задание:\n",
    "\n",
    "1.\tСоздайте сводную таблицу датафрейма df, где будет выведено значение переменной total с разбиением по строкам — категориям переменной shop и колонками по переменной pl. Используйте сумму как метод сведения и сохраните таблицу в переменную pivot.\n",
    "\n",
    "2.\tВыведите значение для второй колонки второй строки таблицы pivot."
   ]
  },
  {
   "cell_type": "code",
   "execution_count": 33,
   "id": "d513d1782a49366b",
   "metadata": {},
   "outputs": [
    {
     "data": {
      "text/plain": [
       "np.int64(69)"
      ]
     },
     "execution_count": 33,
     "metadata": {},
     "output_type": "execute_result"
    }
   ],
   "source": [
    "import pandas as pd\n",
    "import numpy as np\n",
    "\n",
    "fruit = np.array([\"lemons\", \"lemons\", \"lemons\", \"lemons\",\n",
    "                 \"apples\", \"apples\", \"apples\", \"apples\",\n",
    "                 \"apples\", \"apples\", \"apples\"],\n",
    "                dtype=object)\n",
    "\n",
    "shop = np.array([\"Shop A\", \"Shop A\", \"Shop A\", \"Shop B\",\n",
    "                 \"Shop A\", \"Shop A\", \"Shop A\", \"Shop B\",\n",
    "                 \"Shop B\", \"Shop B\", \"Shop A\"],\n",
    "                dtype=object)\n",
    "\n",
    "pl = np.array([\"online\", \"online\", \"offline\",\n",
    "                 \"online\", \"online\", \"offline\",\n",
    "                 \"offline\", \"online\", \"offline\",\n",
    "                 \"offline\", \"offline\"],\n",
    "                dtype=object)\n",
    "\n",
    "\n",
    "\n",
    "df = pd.DataFrame({'fruit': fruit, 'shop': shop, 'pl': pl,\n",
    "                   \"Q\": [1, 2, 2, 3, 3, 4, 5, 6, 7, 4, 4],\n",
    "                   \"P\": [5, 4, 5, 5, 6, 6, 8, 9, 9, 3,3]})\n",
    "df['total'] = df['Q']*df['P']\n",
    "# далее запишите ваш код\n",
    "\n",
    "pivot = df.pivot_table(values='total',\n",
    "                       index='shop',\n",
    "                       columns='pl',\n",
    "                       aggfunc='sum')\n",
    "\n",
    "pivot.iloc[1, 1]"
   ]
  },
  {
   "cell_type": "markdown",
   "id": "a2fbc1b90b584fad",
   "metadata": {},
   "source": [
    "#### Задача 1.4 \n",
    "#### Первичное исследование данных\n",
    "\n",
    "Для этого задания вы можете использовать любой доступный вам набор данных. Например, выберите и загрузите интересный для вас датасет с сайта Kaggle.\n",
    "\n",
    "Что нужно сделать:\n",
    "\n",
    "1.\tСоздайте Python-ноутбук, загрузите в него данные из csv-файла.\n",
    "\n",
    "2.\tИзучите выбранный набор данных — определите количество столбцов, названия столбцов, типы данных столбцов, использование памяти, индекс диапазона и количество ячеек в каждом столбце (ненулевые значения).\n",
    "\n",
    "3.\tОпределите, содержатся ли в данных пропущенные значения и строки-дубликаты.\n",
    "\n",
    "\n",
    "4.\tИзучите функции библиотеки Pandas для работы с объектом DataFrame.Подумайте, какие из них могли бы пригодиться при предобработке данных, попробуйте применить их к выбранному набору данных.\n",
    "\n",
    "По каждому пункту задания сделайте выводы и отразите их в созданном Python-ноутбуке."
   ]
  },
  {
   "cell_type": "markdown",
   "id": "3f1b5880cea4b724",
   "metadata": {},
   "source": [
    "----\n",
    "### Блок 2\n",
    "----"
   ]
  },
  {
   "cell_type": "markdown",
   "id": "9d39440604e3d092",
   "metadata": {},
   "source": [
    "#### Задача 2.1\n",
    "У тебя есть два набора данных:\n",
    "\n",
    "Первый DataFrame (df1) содержит информацию о продажах товаров в магазине:\n",
    "- product_id — идентификатор товара,\n",
    "- product_name — название товара,\n",
    "- category — категория товара.\n",
    "\n",
    "Второй DataFrame (df2) содержит данные о количестве проданных единиц:\n",
    "- product_id — идентификатор товара,\n",
    "- date — дата продажи,\n",
    "- units_sold — количество проданных единиц.\n",
    "\n",
    "*Тебе нужно:*\n",
    "\n",
    "- Объединить эти два DataFrame по столбцу product_id.\n",
    "\n",
    "- Посчитать общее количество проданных единиц (units_sold) для каждой категории товаров (category).\n",
    "\n",
    "- Отсортировать результат по убыванию общего количества проданных единиц.\n",
    "\n"
   ]
  },
  {
   "cell_type": "code",
   "execution_count": 38,
   "id": "6a0cca0a516517f1",
   "metadata": {},
   "outputs": [
    {
     "data": {
      "text/plain": [
       "category\n",
       "Книги          25\n",
       "Электроника    10\n",
       "Name: units_sold, dtype: int64"
      ]
     },
     "execution_count": 38,
     "metadata": {},
     "output_type": "execute_result"
    }
   ],
   "source": [
    "import pandas as pd\n",
    "\n",
    "# Первый DataFrame\n",
    "df1 = pd.DataFrame({\n",
    "    'product_id': [1, 2, 3, 4],\n",
    "    'product_name': ['Ноутбук', 'Книга', 'Телевизор', 'Журнал'],\n",
    "    'category': ['Электроника', 'Книги', 'Электроника', 'Книги']\n",
    "})\n",
    "\n",
    "# Второй DataFrame\n",
    "df2 = pd.DataFrame({\n",
    "    'product_id': [1, 2, 3, 1, 4],\n",
    "    'date': ['2023-10-01', '2023-10-01', '2023-10-02', '2023-10-02', '2023-10-03'],\n",
    "    'units_sold': [5, 10, 3, 2, 15]\n",
    "})\n",
    "\n",
    "# твой код далее:\n",
    "df = pd.merge(df1, df2, on='product_id')\n",
    "df_count = df.groupby('category')['units_sold'].sum()\n",
    "df_count.sort_values(ascending=False)"
   ]
  },
  {
   "cell_type": "markdown",
   "id": "b8dd3807582ae563",
   "metadata": {},
   "source": [
    "#### Задача 2.2\n",
    "У вас есть два DataFrame: orders_df (информация о заказах) и customers_df (информация о клиентах). \n",
    "Ваша задача — проанализировать данные о продажах, учитывая категории клиентов и динамику заказов по месяцам.\n",
    "\n",
    "Задание:\n",
    "\n",
    "- Преобразуйте столбец order_date в формат datetime.\n",
    "- Обработайте пропущенные значения в столбце quantity: для VIP-клиентов замените на 1, для остальных — на среднее значение по их категории, округленное до целого числа.\n",
    "- Создайте столбец total_price как произведение quantity и price.\n",
    "- Объедините orders_df и customers_df по customer_id.\n",
    "- Найдите топ-2 категории клиентов по общей сумме покупок.\n",
    "- Для каждой из этих категорий выведите:\n",
    "Общую сумму покупок.\n",
    "Среднее количество заказов на клиента.\n",
    "Динамику общей суммы покупок по месяцам (в виде таблицы или словаря).\n",
    "- Отсортируйте результат по убыванию общей суммы покупок.\n"
   ]
  },
  {
   "cell_type": "code",
   "execution_count": null,
   "id": "4c758161b88b09f1",
   "metadata": {},
   "outputs": [],
   "source": [
    "import pandas as pd\n",
    "import numpy as np\n",
    "\n",
    "# DataFrame с заказами\n",
    "orders_df = pd.DataFrame({\n",
    "    'order_id': [1, 2, 3, 4, 5, 6, 7, 8, 9, 10],\n",
    "    'customer_id': [101, 102, 103, 101, 104, 105, 102, 106, 107, 103],\n",
    "    'order_date': ['2023-01-15', '2023-02-10', '2023-01-20', '2023-03-05', '2023-02-25',\n",
    "                   '2023-03-15', '2023-04-01', '2023-04-10', '2023-05-01', '2023-05-15'],\n",
    "    'product': ['Laptop', 'Mouse', 'Keyboard', 'Monitor', 'Laptop', 'Mouse', 'Keyboard', 'Monitor', 'Laptop', 'Mouse'],\n",
    "    'quantity': [1, 2, np.nan, 1, 2, 3, 1, np.nan, 2, 1],\n",
    "    'price': [1000, 25, 50, 300, 1000, 25, 50, 300, 1000, 25]\n",
    "})\n",
    "\n",
    "# DataFrame с клиентами\n",
    "customers_df = pd.DataFrame({\n",
    "    'customer_id': [101, 102, 103, 104, 105, 106, 107],\n",
    "    'name': ['Alice', 'Bob', 'Charlie', 'David', 'Eve', 'Frank', 'Grace'],\n",
    "    'category': ['VIP', 'Regular', 'VIP', 'Regular', 'New', 'New', 'Regular']\n",
    "})\n",
    "\n",
    "# ваш код далее\n",
    "\n"
   ]
  },
  {
   "cell_type": "markdown",
   "id": "73f94e2f993778dc",
   "metadata": {},
   "source": [
    "#### Задача 2.3: Анализ данных о заказах и клиентах\n",
    "У вас есть два DataFrame:\n",
    "\n",
    "- orders_df: Содержит данные о заказах с колонками:\n",
    "- order_id: Уникальный идентификатор заказа.\n",
    "- customer_id: Идентификатор клиента.\n",
    "- order_date: Дата заказа (в формате 'YYYY-MM-DD').\n",
    "- amount: Сумма заказа (в рублях).\n",
    "- customers_df: Содержит данные о клиентах с колонками:\n",
    "- customer_id: Идентификатор клиента.\n",
    "- customer_name: Имя клиента.\n",
    "- region: Регион клиента (например, 'Москва', 'Санкт-Петербург').\n",
    "\n",
    "Ваша задача:\n",
    "\n",
    "- Объединить два DataFrame, чтобы связать каждый заказ с информацией о клиенте.\n",
    "- Отфильтровать заказы, сделанные в течение последнего квартала 2023 года (с 1 октября по 31 декабря 2023 года).\n",
    "- Подсчитать общую сумму заказов для каждого региона.\n",
    "- Найти регион с наибольшей общей суммой заказов.\n",
    "- Если в колонке amount есть пропущенные значения, заменить их средним значением суммы заказов для соответствующего региона."
   ]
  },
  {
   "cell_type": "code",
   "execution_count": null,
   "id": "5a5f425d90580a9f",
   "metadata": {},
   "outputs": [],
   "source": [
    "import pandas as pd\n",
    "import numpy as np\n",
    "\n",
    "# Пример данных (для тестирования)\n",
    "orders_df = pd.DataFrame({\n",
    "    'order_id': [1, 2, 3, 4, 5, 6],\n",
    "    'customer_id': [201, 202, 203, 201, 204, 202],\n",
    "    'order_date': pd.to_datetime(['2023-09-15', '2023-10-05', '2023-11-20', '2023-12-01', '2023-12-15', '2023-11-10']),\n",
    "    'amount': [1000, np.nan, 1500, 2000, 1200, np.nan]\n",
    "})\n",
    "\n",
    "customers_df = pd.DataFrame({\n",
    "    'customer_id': [201, 202, 203, 204],\n",
    "    'customer_name': ['Алексей', 'Мария', 'Иван', 'Ольга'],\n",
    "    'region': ['Москва', 'Санкт-Петербург', 'Москва', 'Казань']\n",
    "})\n",
    "\n",
    "#Далее ваш код"
   ]
  }
 ],
 "metadata": {
  "kernelspec": {
   "display_name": "venv",
   "language": "python",
   "name": "python3"
  },
  "language_info": {
   "codemirror_mode": {
    "name": "ipython",
    "version": 3
   },
   "file_extension": ".py",
   "mimetype": "text/x-python",
   "name": "python",
   "nbconvert_exporter": "python",
   "pygments_lexer": "ipython3",
   "version": "3.11.5"
  }
 },
 "nbformat": 4,
 "nbformat_minor": 5
}
