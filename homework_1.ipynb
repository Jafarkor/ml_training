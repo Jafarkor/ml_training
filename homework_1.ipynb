{
 "cells": [
  {
   "cell_type": "markdown",
   "id": "8a77807f92f26ee",
   "metadata": {},
   "source": [
    "## Домашка Numpy"
   ]
  },
  {
   "cell_type": "markdown",
   "id": "fa7ea9fd6cf6a83",
   "metadata": {},
   "source": [
    "### Ответы находятся в соседней ячейке. Задачи выполненные в первом блоке считаются выполнены, если пройден тест, т.е. ячейка выдаст True , БЕЗ FALSE!"
   ]
  },
  {
   "cell_type": "markdown",
   "id": "87f02abca5a94c47",
   "metadata": {},
   "source": [
    "------\n",
    "### Ваш коллега создал структуру данных (см. окно ввода ответа) и передал вам в работу. Преобразуйте ее в массив NumPy и выполните следующие задания:\n",
    "1.\tСоздайте подмассив lines, содержащий все строки со 2-й по 4-ю включительно.\n",
    "2.\tСоздайте подмассив last_column, содержащий последний столбец исходного массива.\n",
    "3.\tТранспонируйте исходный массив и сохраните результат в переменную array_t.\n",
    "4.\tВычислите сумму элементов исходного массива, результат сохраните в переменную array_sum.\n",
    "5.\tВычислите среднее значение элементов исходного массива, результат сохраните в переменную array_avg."
   ]
  },
  {
   "cell_type": "code",
   "execution_count": 36,
   "id": "fbc121e30a2defb3",
   "metadata": {
    "ExecuteTime": {
     "end_time": "2025-06-29T19:23:14.353634Z",
     "start_time": "2025-06-29T19:23:14.347317Z"
    }
   },
   "outputs": [],
   "source": [
    "from unittest import result\n",
    "\n",
    "import numpy as np\n",
    "\n",
    "some_data =  [\n",
    "    [3, 8, 1, 0, 1, 2],\n",
    "    [9, 2, 7, 3, 0, 4],\n",
    "    [2, 5, 1, 3, 1, 8],\n",
    "    [5, 1, 2, 1, 1, 0]\n",
    "]\n",
    "\n",
    "# далее запишите ваш код\n",
    "some_data = np.array(some_data)\n",
    "lines = some_data[1:]\n",
    "last_column = some_data[::, -1]\n",
    "array_t = some_data.T\n",
    "array_sum = some_data.sum()\n",
    "array_avg = some_data.mean()"
   ]
  },
  {
   "cell_type": "code",
   "execution_count": 37,
   "id": "2a818c66c98ce24",
   "metadata": {
    "ExecuteTime": {
     "end_time": "2025-06-29T19:21:36.356896Z",
     "start_time": "2025-06-29T19:21:36.349840Z"
    }
   },
   "outputs": [
    {
     "name": "stdout",
     "output_type": "stream",
     "text": [
      "True\n",
      "True\n"
     ]
    }
   ],
   "source": [
    "print(array_avg == 2.9166666666666665)\n",
    "print(array_sum == 70)"
   ]
  },
  {
   "cell_type": "markdown",
   "id": "7fb59a8ca385174c",
   "metadata": {},
   "source": [
    "---\n",
    "### Операции с массивами NumPy\n",
    "\n",
    "#### Исходные массивы:\n",
    "```python\n",
    "import numpy as np\n",
    "array = np.arange(10) ** 4    # Платежи по играм\n",
    "array_2 = np.arange(10) ** 3  # Платежи по подпискам\n",
    "```\n",
    "#### Выполните последовательно следующие задания применительно к исходным массивам:\n",
    "1.\tОпределите общую сумму дохода сразу по двум потокам. Для этого сначала сложите полученные массивы, после чего получите сумму всех элементов. Результат сохраните в переменную array_sum.\n",
    "2.\tВычислите, насколько больше денег принесла продажа игр за указанный период. Результат сохраните в переменную array_difference.\n",
    "3.\tСохраните 2-й элемент массива по платежам игр в переменную game_payments2.\n",
    "4.\tСохраните последний элемент массива по платежам подписок в переменную subscription_last.\n"
   ]
  },
  {
   "cell_type": "code",
   "execution_count": 38,
   "id": "92bb856a2e3ace5a",
   "metadata": {
    "ExecuteTime": {
     "end_time": "2025-06-29T19:32:29.307176Z",
     "start_time": "2025-06-29T19:32:29.303161Z"
    }
   },
   "outputs": [],
   "source": [
    "import numpy as np\n",
    "\n",
    "array = np.arange(10) ** 4\n",
    "array_2 = np.arange(10) ** 3\n",
    "\n",
    "# далее напишите ваше решение\n",
    "array_sum = sum(sum(array_2,array))\n",
    "array_difference = (array - array_2).sum()\n",
    "game_payments2 = array[1]\n",
    "subscription_last = array_2[-1]\n"
   ]
  },
  {
   "cell_type": "code",
   "execution_count": 39,
   "id": "91420ca18bc93d40",
   "metadata": {
    "ExecuteTime": {
     "end_time": "2025-06-29T19:32:22.280746Z",
     "start_time": "2025-06-29T19:32:22.276126Z"
    }
   },
   "outputs": [
    {
     "name": "stdout",
     "output_type": "stream",
     "text": [
      "True\n"
     ]
    }
   ],
   "source": [
    "print(subscription_last == 729)"
   ]
  },
  {
   "cell_type": "markdown",
   "id": "26b8f65c0bebe1a",
   "metadata": {},
   "source": [
    "-----\n",
    "### Решение системы линейных уравнений\n",
    "Из определенного листового материала необходимо выкроить 360 заготовок типа А, 300 заготовок типа Б и 675 заготовок типа В. При этом можно применять три способа раскроя. \n",
    "\n",
    "Количество заготовок, получаемых из каждого листа при каждом способе раскроя, указано в таблице:\n",
    "| Тип заготовки | Способ раскроя 1 | Способ раскроя 2 | Способ раскроя 3 |\n",
    "|---------------|------------------|------------------|------------------|\n",
    "| А             | 3                | 2                | 1                |\n",
    "| Б             | 1                | 6                | 2                |\n",
    "| В             | 4                | 1                | 5                |\n",
    "\n",
    "#### Найдите решение задачи, при котором расход материала и отходы окажутся минимальными. \n",
    "#### Важно:\n",
    "-\tДля решения используйте модуль linalg библиотеки NumPy.\n",
    "-\tОтветом должен быть массив NumPy из чисел листов, необходимых на раскрой первым, вторым и третьим способом соответственно. \n"
   ]
  },
  {
   "cell_type": "code",
   "execution_count": 40,
   "id": "f033cc9cc00f0eec",
   "metadata": {
    "ExecuteTime": {
     "end_time": "2025-06-29T19:29:38.397136Z",
     "start_time": "2025-06-29T19:29:38.394196Z"
    }
   },
   "outputs": [
    {
     "data": {
      "text/plain": [
       "array([90., 15., 60.])"
      ]
     },
     "execution_count": 40,
     "metadata": {},
     "output_type": "execute_result"
    }
   ],
   "source": [
    "import numpy as np\n",
    "\n",
    "X = np.array([[3, 2, 1],\n",
    "                   [1, 6, 2],\n",
    "                   [4, 1, 5]])\n",
    "y = np.array([360, 300, 675])\n",
    "\n",
    "answer = np.linalg.solve(X, y)\n",
    "answer\n"
   ]
  },
  {
   "cell_type": "code",
   "execution_count": 41,
   "id": "2c44b789ec22d34d",
   "metadata": {
    "ExecuteTime": {
     "end_time": "2025-06-29T19:29:31.837348Z",
     "start_time": "2025-06-29T19:29:31.833051Z"
    }
   },
   "outputs": [
    {
     "name": "stdout",
     "output_type": "stream",
     "text": [
      "[False False False]\n"
     ]
    }
   ],
   "source": [
    "print(answer == [90., 15., 60.])"
   ]
  },
  {
   "cell_type": "markdown",
   "id": "48745ca0336c8a6a",
   "metadata": {},
   "source": [
    "----\n",
    "### Анализ массива с помощью NumPy в Python\n",
    "#### Для этого задания вы можете использовать любой доступный вам набор данных. Либо можно сгенерировать NumPy массив самостоятельно. \n",
    "#### Что нужно сделать:\n",
    "1.\tСоздайте Python-ноутбук, загрузите в него данные из csv-файла и преобразуйте в массив NumPy. Либо сгенерируйте массив самостоятельно.\n",
    "2.\tПолучите атрибуты массива — число измерений, размеры массива, количество элементов, тип данных элементов.\n",
    "3.\tПотренируйтесь в выборке элемента по индексу и выполнении срезов данных массива.\n",
    "4.\tПотренируйтесь в выполнении математических и статистических функций библиотеки NumPy — найдите сумму элементов, среднее значение, медиану, отклонение от среднего и другие показатели, которые считаете полезными при анализе исходного массива."
   ]
  },
  {
   "cell_type": "code",
   "execution_count": 42,
   "id": "8cab147d6de65a62",
   "metadata": {},
   "outputs": [],
   "source": [
    "import numpy as np\n",
    "\n",
    "# ваш код ниже"
   ]
  },
  {
   "cell_type": "markdown",
   "id": "3f172ca4267c7f43",
   "metadata": {},
   "source": [
    "----\n",
    "## Блок 2\n",
    "----"
   ]
  },
  {
   "cell_type": "markdown",
   "id": "f0e20915f4f0eb90",
   "metadata": {},
   "source": [
    "### Задача 1: Базовые операции с массивами\n",
    "**Условие:**  \n",
    "Создайте:  \n",
    "1. Массив из 10 нулей (`arr1`)  \n",
    "2. Массив из чисел от 5 до 15 (`arr2`)  \n",
    "3. Массив 3x3 со случайными целыми числами от 0 до 10 (`arr3`)  \n"
   ]
  },
  {
   "cell_type": "code",
   "execution_count": 43,
   "id": "8e820cb831ab82bb",
   "metadata": {},
   "outputs": [
    {
     "data": {
      "text/plain": [
       "array([[4, 3, 0],\n",
       "       [6, 2, 6],\n",
       "       [1, 0, 8]])"
      ]
     },
     "execution_count": 43,
     "metadata": {},
     "output_type": "execute_result"
    }
   ],
   "source": [
    "import numpy as np\n",
    "\n",
    "# далее ваш код\n",
    "arr1 = np.zeros(10)\n",
    "arr2 = np.arange(5, 15)\n",
    "arr3 = np.random.randint(0, 10, size=(3, 3))\n",
    "arr3"
   ]
  },
  {
   "cell_type": "markdown",
   "id": "dd3b60d7e9913850",
   "metadata": {},
   "source": [
    "### Бродкастинг\n",
    "#### Условие:\n",
    "- Дан массив a = np.array([1, 2, 3]). \n",
    "- Умножьте его на число 5 и на массив b = np.array([0.5, 0.5, 0.5]) используя broadcasting."
   ]
  },
  {
   "cell_type": "code",
   "execution_count": 44,
   "id": "2eff638b7602877e",
   "metadata": {
    "ExecuteTime": {
     "end_time": "2025-06-29T19:41:03.776196Z",
     "start_time": "2025-06-29T19:41:03.772386Z"
    }
   },
   "outputs": [],
   "source": [
    "import numpy as np\n",
    "a = np.array([1, 2, 3])\n",
    "result_a = a * 5\n",
    "result_b = a * 0.5"
   ]
  },
  {
   "cell_type": "code",
   "execution_count": 45,
   "id": "5078d2799563948",
   "metadata": {},
   "outputs": [
    {
     "name": "stdout",
     "output_type": "stream",
     "text": [
      "[ True  True  True]\n",
      "[ True  True  True]\n"
     ]
    }
   ],
   "source": [
    "print(result_a == [5, 10, 15] )\n",
    "print(result_b == [0.5, 1.0, 1.5] )"
   ]
  },
  {
   "cell_type": "markdown",
   "id": "f1b2aaea798c329",
   "metadata": {},
   "source": [
    "### Маскирование\n",
    "**Условие:**  \n",
    "Дан массив температур `temps = np.array([-5, 12, 18, 0, -3, 25, 15])`. Замените:\n",
    "- Все отрицательные температуры на 0\n",
    "- Температуры от 0 до 15 на 1\n",
    "- Температуры выше 15 на 2\n"
   ]
  },
  {
   "cell_type": "code",
   "execution_count": 46,
   "id": "690acaec3874a5cb",
   "metadata": {},
   "outputs": [],
   "source": [
    "import numpy as np\n",
    "\n",
    "temps = np.array([-5, 12, 18, 0, -3, 25, 15])\n",
    "#далее ваш код\n",
    "\n",
    "temps[temps < 0] = 0\n",
    "temps[(0 < temps) & (temps <= 15)] = 1\n",
    "temps[temps > 15] = 2\n",
    "result = temps\n"
   ]
  },
  {
   "cell_type": "code",
   "execution_count": 47,
   "id": "63de8f1584aab8bc",
   "metadata": {},
   "outputs": [
    {
     "name": "stdout",
     "output_type": "stream",
     "text": [
      "[ True  True  True  True  True  True  True]\n"
     ]
    }
   ],
   "source": [
    "print(result == [0, 1, 2, 0, 0, 2, 1])"
   ]
  },
  {
   "cell_type": "markdown",
   "id": "8f7879dc81e14beb",
   "metadata": {},
   "source": [
    "### Скользящее среднее с маскированием\n",
    "**Условие:**  \n",
    "Для массива `data = np.array([3, 5, 2, 8, 1, 9, 4, 6])` рассчитайте 3-точечное скользящее среднее, исключая значения больше 7."
   ]
  },
  {
   "cell_type": "code",
   "execution_count": 48,
   "id": "f36bade0040c8a12",
   "metadata": {},
   "outputs": [
    {
     "data": {
      "text/plain": [
       "array([3.33333333, 2.66666667, 2.33333333, 3.66666667])"
      ]
     },
     "execution_count": 48,
     "metadata": {},
     "output_type": "execute_result"
    }
   ],
   "source": [
    "import numpy as np\n",
    "\n",
    "data = np.array([3, 5, 2, 8, 1, 9, 4, 6])\n",
    "#далее ваш код\n",
    "\n",
    "kernel = np.ones(3) / 3\n",
    "moving_avg = np.convolve(data[data <= 7], kernel, mode='valid')\n",
    "moving_avg"
   ]
  },
  {
   "cell_type": "code",
   "execution_count": 49,
   "id": "551d1fc4d94ad3b9",
   "metadata": {},
   "outputs": [
    {
     "name": "stdout",
     "output_type": "stream",
     "text": [
      "Скользящее среднее: [False False False False]\n"
     ]
    }
   ],
   "source": [
    "print(\"Скользящее среднее:\", moving_avg == [3.33, 3.67, 2.33, 3.67])"
   ]
  },
  {
   "cell_type": "markdown",
   "id": "2d914535d6f19b16",
   "metadata": {},
   "source": [
    "### Матричные операции с условиями\n",
    "#### Условие:\n",
    "#### Даны матрицы A = np.random.randint(0, 10, (4,4)) и B = np.random.randint(0, 10, (4,4)). Вычислите:\n",
    "- Элементы, где A > B\n",
    "- Сумму элементов, где (A + B) > 10"
   ]
  },
  {
   "cell_type": "code",
   "execution_count": 50,
   "id": "3e2f5209d7a4230e",
   "metadata": {},
   "outputs": [],
   "source": [
    "import numpy as np\n",
    "\n",
    "A = np.random.randint(0, 10, (4,4))\n",
    "B = np.random.randint(0, 10, (4,4))\n",
    "# далее ваш код\n",
    "\n",
    "condition1 = A[A > B]\n",
    "condition2_sum = A + B\n",
    "condition2_sum = condition2_sum[condition2_sum > 10]"
   ]
  },
  {
   "cell_type": "code",
   "execution_count": 51,
   "id": "34fedac38de843bb",
   "metadata": {},
   "outputs": [
    {
     "name": "stdout",
     "output_type": "stream",
     "text": [
      "Матрица A:\n",
      " [[1 7 0 0]\n",
      " [7 3 5 9]\n",
      " [3 6 1 2]\n",
      " [5 6 2 1]]\n",
      "Матрица B:\n",
      " [[6 4 8 1]\n",
      " [6 1 3 6]\n",
      " [4 3 5 3]\n",
      " [2 7 8 5]]\n",
      "Элементы A > B: [7 7 3 5 9 6 5]\n",
      "Сумма элементов (A+B)>10: [11 13 15 13]\n"
     ]
    }
   ],
   "source": [
    "print(\"Матрица A:\\n\", A)\n",
    "print(\"Матрица B:\\n\", B)\n",
    "print(\"Элементы A > B:\", condition1)\n",
    "print(\"Сумма элементов (A+B)>10:\", condition2_sum)"
   ]
  },
  {
   "cell_type": "markdown",
   "id": "68cd7fec6b53742f",
   "metadata": {},
   "source": [
    "### Расширенный бродкастинг\n",
    "#### Условие:\n",
    "#### Создайте сетку координат для квадрата 5x5 с центром в точке (2, 2), где каждая ячейка содержит расстояние до центра.\n"
   ]
  },
  {
   "cell_type": "code",
   "execution_count": 52,
   "id": "b18b41de1959522f",
   "metadata": {},
   "outputs": [],
   "source": [
    "import numpy as np\n",
    "\n",
    "# далее ваш код\n",
    "distances = np.arange(25).reshape(5, 5)\n",
    "distances = np.sqrt((distances % 5 - 2) ** 2 + (distances // 5 - 2) ** 2)"
   ]
  },
  {
   "cell_type": "code",
   "execution_count": 53,
   "id": "9c0ae5963cd83160",
   "metadata": {},
   "outputs": [
    {
     "name": "stdout",
     "output_type": "stream",
     "text": [
      "Матрица расстояний:\n",
      " [[2.82842712 2.23606798 2.         2.23606798 2.82842712]\n",
      " [2.23606798 1.41421356 1.         1.41421356 2.23606798]\n",
      " [2.         1.         0.         1.         2.        ]\n",
      " [2.23606798 1.41421356 1.         1.41421356 2.23606798]\n",
      " [2.82842712 2.23606798 2.         2.23606798 2.82842712]]\n"
     ]
    }
   ],
   "source": [
    "print(\"Матрица расстояний:\\n\", distances)\n",
    "# Центр должен быть 0, углы ≈ 2.828"
   ]
  },
  {
   "cell_type": "markdown",
   "id": "c3108c4d4662566c",
   "metadata": {},
   "source": [
    "### Поиск особых элементов\n",
    "#### Условие:\n",
    "#### В массиве arr = np.random.randint(1, 100, 20) найдите:\n",
    "- Все простые числа\n",
    "- Индексы локальных максимумов"
   ]
  },
  {
   "cell_type": "code",
   "execution_count": 54,
   "id": "c17c5da172fcdb60",
   "metadata": {},
   "outputs": [],
   "source": [
    "import numpy as np\n",
    "\n",
    "# ваш код ниже\n",
    "arr = np.random.randint(1, 100, 20)\n",
    "\n",
    "def is_prime(n):\n",
    "    if n < 2:\n",
    "        return False\n",
    "    for i in range(2, int(np.sqrt(n)) + 1):\n",
    "        if n % i == 0:\n",
    "            return False\n",
    "    return True\n",
    "\n",
    "vec_is_prime = np.vectorize(is_prime)\n",
    "primes = arr[vec_is_prime(arr)]\n",
    "\n",
    "mask_max = (arr[1:-1] > arr[:-2]) & (arr[1:-1] > arr[2:])\n",
    "peak_indices = np.where(mask_max)\n"
   ]
  },
  {
   "cell_type": "code",
   "execution_count": 55,
   "id": "a7c8d298082849f0",
   "metadata": {},
   "outputs": [
    {
     "name": "stdout",
     "output_type": "stream",
     "text": [
      "Массив: [62  6 48 15 42 78 21 71 74 16 33 54 85 22 54 81 70 34 16 33]\n",
      "Простые числа: [71]\n",
      "Индексы локальных максимумов: [ 2  5  8 12 15]\n"
     ]
    }
   ],
   "source": [
    "print(\"Массив:\", arr)\n",
    "print(\"Простые числа:\", primes)\n",
    "print(\"Индексы локальных максимумов:\", peak_indices[0] + 1)"
   ]
  },
  {
   "cell_type": "markdown",
   "id": "991938d60f37eb8d",
   "metadata": {},
   "source": [
    "### Векторизованные вычисления\n",
    "#### Условие:\n",
    "#### Для матрицы M = np.random.rand(5,5) вычислите:\n",
    "- Норму каждой строки (L2)\n",
    "- Углы между всеми парами столбцов"
   ]
  },
  {
   "cell_type": "code",
   "execution_count": 56,
   "id": "4b984652e639bca7",
   "metadata": {},
   "outputs": [],
   "source": [
    "import numpy as np\n",
    "\n",
    "#ваш коде ниже\n",
    "\n",
    "M = np.random.rand(5,5)\n",
    "row_norms = np.linalg.norm(M, axis=1)"
   ]
  },
  {
   "cell_type": "code",
   "execution_count": 58,
   "id": "d12874d52dfba22a",
   "metadata": {},
   "outputs": [
    {
     "name": "stdout",
     "output_type": "stream",
     "text": [
      "Нормы строк: [1.08535875 1.02313623 1.36711692 1.24997332 1.73367557]\n"
     ]
    },
    {
     "ename": "NameError",
     "evalue": "name 'angles' is not defined",
     "output_type": "error",
     "traceback": [
      "\u001b[31m---------------------------------------------------------------------------\u001b[39m",
      "\u001b[31mNameError\u001b[39m                                 Traceback (most recent call last)",
      "\u001b[36mCell\u001b[39m\u001b[36m \u001b[39m\u001b[32mIn[58]\u001b[39m\u001b[32m, line 2\u001b[39m\n\u001b[32m      1\u001b[39m \u001b[38;5;28mprint\u001b[39m(\u001b[33m\"\u001b[39m\u001b[33mНормы строк:\u001b[39m\u001b[33m\"\u001b[39m, row_norms)\n\u001b[32m----> \u001b[39m\u001b[32m2\u001b[39m \u001b[38;5;28mprint\u001b[39m(\u001b[33m\"\u001b[39m\u001b[33mМатрица углов между столбцами (радианы):\u001b[39m\u001b[38;5;130;01m\\n\u001b[39;00m\u001b[33m\"\u001b[39m, \u001b[43mangles\u001b[49m)\n\u001b[32m      3\u001b[39m \u001b[38;5;66;03m# Диагональ должна быть 0 (один и тот же столбец)\u001b[39;00m\n",
      "\u001b[31mNameError\u001b[39m: name 'angles' is not defined"
     ]
    }
   ],
   "source": [
    "print(\"Нормы строк:\", row_norms)\n",
    "print(\"Матрица углов между столбцами (радианы):\\n\", angles)\n",
    "# Диагональ должна быть 0 (один и тот же столбец)"
   ]
  },
  {
   "cell_type": "markdown",
   "id": "35ca18f7a3bcf26b",
   "metadata": {},
   "source": [
    "----\n",
    "## Блок 3 (Срезы)\n",
    "----"
   ]
  },
  {
   "cell_type": "markdown",
   "id": "d26e87d38ba14d8c",
   "metadata": {},
   "source": [
    "### Четные и нечетные строки\n",
    "**Условие:**  \n",
    "Дан массив `arr = np.arange(36).reshape(6,6)`. Получите:\n",
    "1. Все четные строки (0, 2, 4)\n",
    "2. Все нечетные столбцы (1, 3, 5)"
   ]
  },
  {
   "cell_type": "code",
   "execution_count": 59,
   "id": "ea408b4308f41a6d",
   "metadata": {},
   "outputs": [],
   "source": [
    "import numpy as np\n",
    "arr = np.arange(36).reshape(6,6)\n",
    "# ваше решение ниже\n",
    "\n",
    "even_rows = arr[::2]\n",
    "odd_cols = arr[:, 1::2]"
   ]
  },
  {
   "cell_type": "code",
   "execution_count": 60,
   "id": "f1b433c919e52075",
   "metadata": {},
   "outputs": [
    {
     "name": "stdout",
     "output_type": "stream",
     "text": [
      "Четные строки:\n",
      " [[ 0  1  2  3  4  5]\n",
      " [12 13 14 15 16 17]\n",
      " [24 25 26 27 28 29]]\n",
      "Нечетные столбцы:\n",
      " [[ 1  3  5]\n",
      " [ 7  9 11]\n",
      " [13 15 17]\n",
      " [19 21 23]\n",
      " [25 27 29]\n",
      " [31 33 35]]\n"
     ]
    }
   ],
   "source": [
    "print(\"Четные строки:\\n\", even_rows)\n",
    "print(\"Нечетные столбцы:\\n\", odd_cols)\n",
    "#Четные строки — строки с числами [[0, 1, 2, 3, 4, 5], [12, 13, 14, 15, 16, 17], [24, 25, 26, 27, 28, 29]].\n",
    "#Нечетные столбцы — столбцы с числами [[1, 3, 5], [7, 9, 11], ..., [31, 33, 35]]."
   ]
  },
  {
   "cell_type": "markdown",
   "id": "708da6c7f30c9a4a",
   "metadata": {},
   "source": [
    "### Пограничные элементы\n",
    "**Условие:**  \n",
    "Для массива `arr = np.random.randint(0, 100, (5, 5))` извлеките:\n",
    "1. Первую и последнюю строки\n",
    "2. Все элементы по периметру массива\n"
   ]
  },
  {
   "cell_type": "code",
   "execution_count": 66,
   "id": "7370c05a1dbacc46",
   "metadata": {},
   "outputs": [],
   "source": [
    "import numpy as np\n",
    "\n",
    "arr = np.random.randint(0, 100, (5, 5))\n",
    "first_last_rows = arr[[0, -1]]\n",
    "perimeter = np.concatenate([\n",
    "    arr[0, :-1], arr[:-1, -1], arr[-1, -1:0:-1], arr[-1:0:-1, 0]\n",
    "])"
   ]
  },
  {
   "cell_type": "code",
   "execution_count": 67,
   "id": "d555de9843da116d",
   "metadata": {},
   "outputs": [
    {
     "name": "stdout",
     "output_type": "stream",
     "text": [
      "Исходный массив:\n",
      " [[66 69 60 55 89]\n",
      " [69 77 74 56 22]\n",
      " [81 64 30 95 93]\n",
      " [74 38 94 91 33]\n",
      " [86 96 80 79 45]]\n",
      "\n",
      "Первая и последняя строки:\n",
      " [[66 69 60 55 89]\n",
      " [86 96 80 79 45]]\n",
      "\n",
      "Элементы по периметру: [66 69 60 55 89 22 93 33 45 79 80 96 86 74 81 69]\n"
     ]
    }
   ],
   "source": [
    "print(\"Исходный массив:\\n\", arr)\n",
    "print(\"\\nПервая и последняя строки:\\n\", first_last_rows)\n",
    "print(\"\\nЭлементы по периметру:\", perimeter)"
   ]
  },
  {
   "cell_type": "markdown",
   "id": "3176f4ca5f031e95",
   "metadata": {},
   "source": [
    "### Диагональные срезы\n",
    "**Условие:**  \n",
    "Из массива `arr = np.arange(25).reshape(5, 5)` извлеките:\n",
    "1. Главную диагональ\n",
    "2. Диагональ, расположенную на 1 позицию выше главной\n",
    "3. Антидиагональ (из правого верхнего в левый нижний угол)"
   ]
  },
  {
   "cell_type": "code",
   "execution_count": 1,
   "id": "e673feb51be2ecd4",
   "metadata": {},
   "outputs": [],
   "source": [
    "import numpy as np\n",
    "\n",
    "arr = np.arange(25).reshape(5, 5)\n",
    "#ваше решение ниже\n",
    "main_diag = np.diag(arr)\n",
    "upper_diag = np.diag(arr, k=1)\n",
    "anti_diag = np.diag(arr)[::-1]"
   ]
  },
  {
   "cell_type": "code",
   "execution_count": 2,
   "id": "94202e0680c3762a",
   "metadata": {},
   "outputs": [
    {
     "name": "stdout",
     "output_type": "stream",
     "text": [
      "Исходный массив:\n",
      " [[ 0  1  2  3  4]\n",
      " [ 5  6  7  8  9]\n",
      " [10 11 12 13 14]\n",
      " [15 16 17 18 19]\n",
      " [20 21 22 23 24]]\n",
      "\n",
      "Главная диагональ: [ True  True  True  True  True]\n",
      "Диагональ выше главной: [ True  True  True  True]\n",
      "Антидиагональ: [False False  True False False]\n"
     ]
    }
   ],
   "source": [
    "print(\"Исходный массив:\\n\", arr )\n",
    "print(\"\\nГлавная диагональ:\", main_diag == [0, 6, 12, 18, 24] )\n",
    "print(\"Диагональ выше главной:\", upper_diag == [1, 7, 13, 19])\n",
    "print(\"Антидиагональ:\", anti_diag == [ 4, 8, 12, 16, 20 ])"
   ]
  },
  {
   "cell_type": "markdown",
   "id": "54bbe01084304b2c",
   "metadata": {},
   "source": [
    "### Шахматный узор\n",
    "**Условие:**  \n",
    "Создайте шахматный узор 8x8 (0 и 1), используя срезы без циклов."
   ]
  },
  {
   "cell_type": "code",
   "execution_count": 4,
   "id": "9cb80830b70c98ff",
   "metadata": {},
   "outputs": [],
   "source": [
    "import numpy as np\n",
    "\n",
    "# ваше решение ниже\n",
    "chess = np.zeros((8, 8))\n",
    "chess[::2, ::2] = 1\n",
    "chess[1::2, 1::2] = 1"
   ]
  },
  {
   "cell_type": "code",
   "execution_count": 7,
   "id": "370526993af31c2b",
   "metadata": {},
   "outputs": [
    {
     "name": "stdout",
     "output_type": "stream",
     "text": [
      "Созданный массив:\n",
      " [[1. 0. 1. 0. 1. 0. 1. 0.]\n",
      " [0. 1. 0. 1. 0. 1. 0. 1.]\n",
      " [1. 0. 1. 0. 1. 0. 1. 0.]\n",
      " [0. 1. 0. 1. 0. 1. 0. 1.]\n",
      " [1. 0. 1. 0. 1. 0. 1. 0.]\n",
      " [0. 1. 0. 1. 0. 1. 0. 1.]\n",
      " [1. 0. 1. 0. 1. 0. 1. 0.]\n",
      " [0. 1. 0. 1. 0. 1. 0. 1.]]\n",
      "\n",
      "Проверка на соответствие:\n",
      " True\n"
     ]
    }
   ],
   "source": [
    "expected = np.array([\n",
    "    [1, 0, 1, 0, 1, 0, 1, 0],\n",
    "    [0, 1, 0, 1, 0, 1, 0, 1],\n",
    "    [1, 0, 1, 0, 1, 0, 1, 0],\n",
    "    [0, 1, 0, 1, 0, 1, 0, 1],\n",
    "    [1, 0, 1, 0, 1, 0, 1, 0],\n",
    "    [0, 1, 0, 1, 0, 1, 0, 1],\n",
    "    [1, 0, 1, 0, 1, 0, 1, 0],\n",
    "    [0, 1, 0, 1, 0, 1, 0, 1]\n",
    "])\n",
    "\n",
    "print(\"Созданный массив:\\n\", chess)\n",
    "print(\"\\nПроверка на соответствие:\\n\", np.all(chess == expected))"
   ]
  },
  {
   "cell_type": "markdown",
   "id": "ed9f590bf69c47f1",
   "metadata": {},
   "source": [
    "### Окно в массиве\n",
    "**Условие:**\n",
    "Для массива `arr = np.arange(64).reshape(8,8)` извлеките центральное окно 4x4 и проверьте его корректность."
   ]
  },
  {
   "cell_type": "code",
   "execution_count": 14,
   "id": "541918f4639b675c",
   "metadata": {},
   "outputs": [],
   "source": [
    "import numpy as np\n",
    "\n",
    "arr = np.arange(64).reshape(8,8)\n",
    "# ваше решение ниже\n",
    "center_window = arr[2:6, 2:6]\n",
    "expected_top_left = arr[2, 2]\n",
    "expected_top_right = arr[2, 5]\n",
    "expected_bottom_left = arr[5, 2]\n",
    "expected_bottom_right = arr[5, 5]"
   ]
  },
  {
   "cell_type": "code",
   "execution_count": 15,
   "id": "1120d1991bb27c4c",
   "metadata": {},
   "outputs": [
    {
     "name": "stdout",
     "output_type": "stream",
     "text": [
      "Проверка границ окна:\n",
      "Левый верхний угол: True\n",
      "Правый верхний угол: True\n",
      "Левый нижний угол: True\n",
      "Правый нижний угол: True\n",
      "\n",
      "Проверка размера окна: True\n"
     ]
    }
   ],
   "source": [
    "print(\"Проверка границ окна:\")\n",
    "print(\"Левый верхний угол:\", center_window[0,0] == expected_top_left)  # True\n",
    "print(\"Правый верхний угол:\", center_window[0,-1] == expected_top_right)  # True\n",
    "print(\"Левый нижний угол:\", center_window[-1,0] == expected_bottom_left)  # True\n",
    "print(\"Правый нижний угол:\", center_window[-1,-1] == expected_bottom_right)  # True\n",
    "\n",
    "# Проверка размера\n",
    "print(\"\\nПроверка размера окна:\", center_window.shape == (4,4))  # True"
   ]
  },
  {
   "cell_type": "markdown",
   "id": "5f7418bad952ffb5",
   "metadata": {},
   "source": [
    "### Разворот подмассивов\n",
    "**Условие:**\n",
    "Дан массив `arr = np.arange(24).reshape(6,4)`. Необходимо:\n",
    "1. Развернуть каждую вторую строку\n",
    "2. Развернуть каждый третий столбец\n",
    "3. Проверить корректность изменений"
   ]
  },
  {
   "cell_type": "code",
   "execution_count": 22,
   "id": "6165638c90df3f65",
   "metadata": {},
   "outputs": [],
   "source": [
    "import numpy as np\n",
    "\n",
    "arr = np.arange(24).reshape(6,4)\n",
    "arr[1::2] = arr[1::2, -1::-1]\n",
    "row_check = arr.copy()\n",
    "arr[:, 2::3] = arr[-1::-1, 2::3]\n",
    "col_check = arr\n"
   ]
  },
  {
   "cell_type": "code",
   "execution_count": 23,
   "id": "a634ffd306049954",
   "metadata": {},
   "outputs": [
    {
     "name": "stdout",
     "output_type": "stream",
     "text": [
      "Проверка строк:\n",
      " [[ 0  1  2  3]\n",
      " [ 7  6  5  4]\n",
      " [ 8  9 10 11]\n",
      " [15 14 13 12]\n",
      " [16 17 18 19]\n",
      " [23 22 21 20]]\n",
      "Проверка столбцов:\n",
      " [[ 0  1 21  3]\n",
      " [ 7  6 18  4]\n",
      " [ 8  9 13 11]\n",
      " [15 14 10 12]\n",
      " [16 17  5 19]\n",
      " [23 22  2 20]]\n",
      "\n",
      "Итоговый массив:\n",
      " [[ 0  1 21  3]\n",
      " [ 7  6 18  4]\n",
      " [ 8  9 13 11]\n",
      " [15 14 10 12]\n",
      " [16 17  5 19]\n",
      " [23 22  2 20]]\n"
     ]
    }
   ],
   "source": [
    "print(\"Проверка строк:\\n\", row_check)\n",
    "print(\"Проверка столбцов:\\n\", col_check)\n",
    "print(\"\\nИтоговый массив:\\n\", arr)"
   ]
  },
  {
   "cell_type": "code",
   "execution_count": null,
   "id": "139cc7a7",
   "metadata": {},
   "outputs": [],
   "source": []
  }
 ],
 "metadata": {
  "kernelspec": {
   "display_name": "venv",
   "language": "python",
   "name": "python3"
  },
  "language_info": {
   "codemirror_mode": {
    "name": "ipython",
    "version": 3
   },
   "file_extension": ".py",
   "mimetype": "text/x-python",
   "name": "python",
   "nbconvert_exporter": "python",
   "pygments_lexer": "ipython3",
   "version": "3.11.5"
  }
 },
 "nbformat": 4,
 "nbformat_minor": 5
}
