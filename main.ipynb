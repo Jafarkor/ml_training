{
 "cells": [
  {
   "cell_type": "code",
   "execution_count": null,
   "id": "ba7812f6",
   "metadata": {},
   "outputs": [],
   "source": [
    "import numpy as np\n"
   ]
  },
  {
   "cell_type": "code",
   "execution_count": 8,
   "id": "837e6392",
   "metadata": {},
   "outputs": [],
   "source": [
    "arr = np.random.randint(0, 50, size=(8, 8))"
   ]
  },
  {
   "cell_type": "code",
   "execution_count": 9,
   "id": "1f5df0b0",
   "metadata": {},
   "outputs": [
    {
     "data": {
      "text/plain": [
       "array([[28, 23, 17, 27, 47,  5, 30, 17],\n",
       "       [14, 13, 42, 43, 37, 16,  5, 37],\n",
       "       [12,  6, 25, 42, 30,  5,  2, 11],\n",
       "       [ 7, 20, 33, 46, 39, 35, 23, 27],\n",
       "       [ 7,  1, 29, 30, 49,  0, 20, 48],\n",
       "       [22, 29, 39, 21, 11, 16, 19, 42],\n",
       "       [ 1,  0, 35, 30, 46, 23, 20, 21],\n",
       "       [29, 34, 42, 10, 12, 23, 25, 46]])"
      ]
     },
     "execution_count": 9,
     "metadata": {},
     "output_type": "execute_result"
    }
   ],
   "source": [
    "arr"
   ]
  },
  {
   "cell_type": "code",
   "execution_count": 10,
   "id": "b550230f",
   "metadata": {},
   "outputs": [],
   "source": [
    "arr6 = arr[:6, :6]"
   ]
  },
  {
   "cell_type": "code",
   "execution_count": 11,
   "id": "46b1ad25",
   "metadata": {},
   "outputs": [
    {
     "name": "stdout",
     "output_type": "stream",
     "text": [
      "[[28 23 17 27 47  5]\n",
      " [14 13 42 43 37 16]\n",
      " [12  6 25 42 30  5]\n",
      " [ 7 20 33 46 39 35]\n",
      " [ 7  1 29 30 49  0]\n",
      " [22 29 39 21 11 16]]\n",
      "[[28 23 17 27 47 15]\n",
      " [14 13 42 43 37 16]\n",
      " [12 18 25 42 30 15]\n",
      " [21 20 33 46 39 35]\n",
      " [21  3 29 30 49  0]\n",
      " [22 29 39 21 11 16]]\n"
     ]
    }
   ],
   "source": [
    "print((arr6))\n",
    "arr6[arr6 < 10] = arr6[arr6 < 10] * 3\n",
    "print(arr6)"
   ]
  },
  {
   "cell_type": "code",
   "execution_count": 12,
   "id": "ede2b11b",
   "metadata": {},
   "outputs": [
    {
     "data": {
      "text/plain": [
       "np.int64(39)"
      ]
     },
     "execution_count": 12,
     "metadata": {},
     "output_type": "execute_result"
    }
   ],
   "source": [
    "arr6[-1].max()"
   ]
  },
  {
   "cell_type": "code",
   "execution_count": null,
   "id": "3cc9ee42",
   "metadata": {},
   "outputs": [],
   "source": []
  }
 ],
 "metadata": {
  "kernelspec": {
   "display_name": "venv",
   "language": "python",
   "name": "python3"
  },
  "language_info": {
   "codemirror_mode": {
    "name": "ipython",
    "version": 3
   },
   "file_extension": ".py",
   "mimetype": "text/x-python",
   "name": "python",
   "nbconvert_exporter": "python",
   "pygments_lexer": "ipython3",
   "version": "3.11.5"
  }
 },
 "nbformat": 4,
 "nbformat_minor": 5
}
